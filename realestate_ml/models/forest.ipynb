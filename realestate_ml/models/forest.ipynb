{
 "cells": [
  {
   "cell_type": "code",
   "execution_count": 1,
   "metadata": {},
   "outputs": [],
   "source": [
    "from sklearn.model_selection import train_test_split\n",
    "from pandas.plotting import scatter_matrix\n",
    "from sklearn.linear_model import LinearRegression\n",
    "from sklearn.metrics import mean_squared_error\n",
    "from sklearn.model_selection import cross_val_score\n",
    "from sklearn.preprocessing import OneHotEncoder\n",
    "from sklearn.pipeline import Pipeline\n",
    "from sklearn.preprocessing import StandardScaler\n",
    "from sklearn.compose import ColumnTransformer\n",
    "import matplotlib.pyplot as plt\n",
    "import pandas as pd\n",
    "import seaborn as sns\n",
    "import sklearn\n",
    "import numpy as np"
   ]
  },
  {
   "cell_type": "code",
   "execution_count": 2,
   "metadata": {},
   "outputs": [
    {
     "data": {
      "text/html": [
       "<div>\n",
       "<style scoped>\n",
       "    .dataframe tbody tr th:only-of-type {\n",
       "        vertical-align: middle;\n",
       "    }\n",
       "\n",
       "    .dataframe tbody tr th {\n",
       "        vertical-align: top;\n",
       "    }\n",
       "\n",
       "    .dataframe thead th {\n",
       "        text-align: right;\n",
       "    }\n",
       "</style>\n",
       "<table border=\"1\" class=\"dataframe\">\n",
       "  <thead>\n",
       "    <tr style=\"text-align: right;\">\n",
       "      <th></th>\n",
       "      <th>bedrooms</th>\n",
       "      <th>Sqft.</th>\n",
       "      <th>lot Sqft.</th>\n",
       "      <th>full baths</th>\n",
       "      <th>half baths</th>\n",
       "      <th>stories</th>\n",
       "      <th>year built</th>\n",
       "      <th>Private Pool</th>\n",
       "      <th>zip</th>\n",
       "      <th>price</th>\n",
       "    </tr>\n",
       "  </thead>\n",
       "  <tbody>\n",
       "    <tr>\n",
       "      <th>0</th>\n",
       "      <td>3.0</td>\n",
       "      <td>1758.0</td>\n",
       "      <td>7150.0</td>\n",
       "      <td>2.0</td>\n",
       "      <td>0</td>\n",
       "      <td>1.0</td>\n",
       "      <td>1978.0</td>\n",
       "      <td>False</td>\n",
       "      <td>77084</td>\n",
       "      <td>221000.0</td>\n",
       "    </tr>\n",
       "    <tr>\n",
       "      <th>1</th>\n",
       "      <td>4.0</td>\n",
       "      <td>2958.0</td>\n",
       "      <td>9400.0</td>\n",
       "      <td>3.0</td>\n",
       "      <td>1</td>\n",
       "      <td>2.0</td>\n",
       "      <td>1980.0</td>\n",
       "      <td>False</td>\n",
       "      <td>77070</td>\n",
       "      <td>359500.0</td>\n",
       "    </tr>\n",
       "    <tr>\n",
       "      <th>2</th>\n",
       "      <td>3.0</td>\n",
       "      <td>1120.0</td>\n",
       "      <td>6000.0</td>\n",
       "      <td>2.0</td>\n",
       "      <td>0</td>\n",
       "      <td>1.0</td>\n",
       "      <td>1936.0</td>\n",
       "      <td>False</td>\n",
       "      <td>77008</td>\n",
       "      <td>825000.0</td>\n",
       "    </tr>\n",
       "    <tr>\n",
       "      <th>3</th>\n",
       "      <td>3.0</td>\n",
       "      <td>1714.0</td>\n",
       "      <td>5500.0</td>\n",
       "      <td>2.0</td>\n",
       "      <td>0</td>\n",
       "      <td>1.0</td>\n",
       "      <td>1986.0</td>\n",
       "      <td>False</td>\n",
       "      <td>77095</td>\n",
       "      <td>289995.0</td>\n",
       "    </tr>\n",
       "    <tr>\n",
       "      <th>4</th>\n",
       "      <td>0.0</td>\n",
       "      <td>1470.0</td>\n",
       "      <td>4895.0</td>\n",
       "      <td>0.0</td>\n",
       "      <td>0</td>\n",
       "      <td>1.0</td>\n",
       "      <td>1977.0</td>\n",
       "      <td>False</td>\n",
       "      <td>77016</td>\n",
       "      <td>280000.0</td>\n",
       "    </tr>\n",
       "  </tbody>\n",
       "</table>\n",
       "</div>"
      ],
      "text/plain": [
       "   bedrooms   Sqft.  lot Sqft.  full baths  half baths  stories  year built  \\\n",
       "0       3.0  1758.0     7150.0         2.0           0      1.0      1978.0   \n",
       "1       4.0  2958.0     9400.0         3.0           1      2.0      1980.0   \n",
       "2       3.0  1120.0     6000.0         2.0           0      1.0      1936.0   \n",
       "3       3.0  1714.0     5500.0         2.0           0      1.0      1986.0   \n",
       "4       0.0  1470.0     4895.0         0.0           0      1.0      1977.0   \n",
       "\n",
       "   Private Pool    zip     price  \n",
       "0         False  77084  221000.0  \n",
       "1         False  77070  359500.0  \n",
       "2         False  77008  825000.0  \n",
       "3         False  77095  289995.0  \n",
       "4         False  77016  280000.0  "
      ]
     },
     "execution_count": 2,
     "metadata": {},
     "output_type": "execute_result"
    }
   ],
   "source": [
    "data = pd.read_csv('C:\\\\Users\\\\corey\\\\Desktop\\\\git\\\\portfolio\\\\data_portfolio\\\\realestate_ml\\\\data\\\\houston_houses.csv')\n",
    "data = data.drop('Unnamed: 0', axis=1)\n",
    "data.head()"
   ]
  },
  {
   "cell_type": "code",
   "execution_count": 3,
   "metadata": {},
   "outputs": [
    {
     "name": "stdout",
     "output_type": "stream",
     "text": [
      "<class 'pandas.core.frame.DataFrame'>\n",
      "RangeIndex: 31947 entries, 0 to 31946\n",
      "Data columns (total 10 columns):\n",
      " #   Column        Non-Null Count  Dtype  \n",
      "---  ------        --------------  -----  \n",
      " 0   bedrooms      31947 non-null  float64\n",
      " 1   Sqft.         31947 non-null  float64\n",
      " 2   lot Sqft.     31947 non-null  float64\n",
      " 3   full baths    31947 non-null  float64\n",
      " 4   half baths    31947 non-null  int64  \n",
      " 5   stories       31947 non-null  float64\n",
      " 6   year built    31947 non-null  float64\n",
      " 7   Private Pool  31947 non-null  bool   \n",
      " 8   zip           31947 non-null  int64  \n",
      " 9   price         31947 non-null  float64\n",
      "dtypes: bool(1), float64(7), int64(2)\n",
      "memory usage: 2.2 MB\n"
     ]
    }
   ],
   "source": [
    "data.info()"
   ]
  },
  {
   "cell_type": "code",
   "execution_count": 4,
   "metadata": {},
   "outputs": [],
   "source": [
    "data[['bedrooms', 'full baths', 'half baths','zip']] = data[['bedrooms', 'full baths', 'half baths','zip']].astype(str)"
   ]
  },
  {
   "cell_type": "code",
   "execution_count": 5,
   "metadata": {},
   "outputs": [
    {
     "data": {
      "text/html": [
       "<div>\n",
       "<style scoped>\n",
       "    .dataframe tbody tr th:only-of-type {\n",
       "        vertical-align: middle;\n",
       "    }\n",
       "\n",
       "    .dataframe tbody tr th {\n",
       "        vertical-align: top;\n",
       "    }\n",
       "\n",
       "    .dataframe thead th {\n",
       "        text-align: right;\n",
       "    }\n",
       "</style>\n",
       "<table border=\"1\" class=\"dataframe\">\n",
       "  <thead>\n",
       "    <tr style=\"text-align: right;\">\n",
       "      <th></th>\n",
       "      <th>Sqft.</th>\n",
       "      <th>lot Sqft.</th>\n",
       "      <th>stories</th>\n",
       "      <th>price</th>\n",
       "      <th>age</th>\n",
       "    </tr>\n",
       "  </thead>\n",
       "  <tbody>\n",
       "    <tr>\n",
       "      <th>count</th>\n",
       "      <td>31947.000000</td>\n",
       "      <td>3.194700e+04</td>\n",
       "      <td>31947.000000</td>\n",
       "      <td>3.194700e+04</td>\n",
       "      <td>31947.000000</td>\n",
       "    </tr>\n",
       "    <tr>\n",
       "      <th>mean</th>\n",
       "      <td>2384.349516</td>\n",
       "      <td>1.130032e+04</td>\n",
       "      <td>1.721694</td>\n",
       "      <td>5.002466e+05</td>\n",
       "      <td>21.497198</td>\n",
       "    </tr>\n",
       "    <tr>\n",
       "      <th>std</th>\n",
       "      <td>1172.923698</td>\n",
       "      <td>4.506365e+04</td>\n",
       "      <td>23.930095</td>\n",
       "      <td>5.990412e+05</td>\n",
       "      <td>26.561351</td>\n",
       "    </tr>\n",
       "    <tr>\n",
       "      <th>min</th>\n",
       "      <td>0.000000</td>\n",
       "      <td>0.000000e+00</td>\n",
       "      <td>1.000000</td>\n",
       "      <td>1.000000e+00</td>\n",
       "      <td>0.000000</td>\n",
       "    </tr>\n",
       "    <tr>\n",
       "      <th>25%</th>\n",
       "      <td>1682.000000</td>\n",
       "      <td>1.660000e+03</td>\n",
       "      <td>1.000000</td>\n",
       "      <td>2.884950e+05</td>\n",
       "      <td>1.000000</td>\n",
       "    </tr>\n",
       "    <tr>\n",
       "      <th>50%</th>\n",
       "      <td>2184.000000</td>\n",
       "      <td>6.373000e+03</td>\n",
       "      <td>1.000000</td>\n",
       "      <td>3.752320e+05</td>\n",
       "      <td>12.000000</td>\n",
       "    </tr>\n",
       "    <tr>\n",
       "      <th>75%</th>\n",
       "      <td>2830.000000</td>\n",
       "      <td>8.795500e+03</td>\n",
       "      <td>2.000000</td>\n",
       "      <td>5.300000e+05</td>\n",
       "      <td>39.000000</td>\n",
       "    </tr>\n",
       "    <tr>\n",
       "      <th>max</th>\n",
       "      <td>36245.000000</td>\n",
       "      <td>1.441410e+06</td>\n",
       "      <td>3306.000000</td>\n",
       "      <td>2.650000e+07</td>\n",
       "      <td>1823.000000</td>\n",
       "    </tr>\n",
       "  </tbody>\n",
       "</table>\n",
       "</div>"
      ],
      "text/plain": [
       "              Sqft.     lot Sqft.       stories         price           age\n",
       "count  31947.000000  3.194700e+04  31947.000000  3.194700e+04  31947.000000\n",
       "mean    2384.349516  1.130032e+04      1.721694  5.002466e+05     21.497198\n",
       "std     1172.923698  4.506365e+04     23.930095  5.990412e+05     26.561351\n",
       "min        0.000000  0.000000e+00      1.000000  1.000000e+00      0.000000\n",
       "25%     1682.000000  1.660000e+03      1.000000  2.884950e+05      1.000000\n",
       "50%     2184.000000  6.373000e+03      1.000000  3.752320e+05     12.000000\n",
       "75%     2830.000000  8.795500e+03      2.000000  5.300000e+05     39.000000\n",
       "max    36245.000000  1.441410e+06   3306.000000  2.650000e+07   1823.000000"
      ]
     },
     "execution_count": 5,
     "metadata": {},
     "output_type": "execute_result"
    }
   ],
   "source": [
    "data['age'] = data.apply(lambda x: 2022 - x['year built'] + 1 if x['year built'] else 0, axis=1)\n",
    "data = data.drop(['year built'], axis=1)\n",
    "data.describe()"
   ]
  },
  {
   "cell_type": "code",
   "execution_count": 6,
   "metadata": {},
   "outputs": [
    {
     "data": {
      "image/png": "[encoded data removed]",
      "text/plain": [
       "<Figure size 432x288 with 1 Axes>"
      ]
     },
     "metadata": {
      "needs_background": "light"
     },
     "output_type": "display_data"
    }
   ],
   "source": [
    "# The majority of homes are brand new or older than 25 years\n",
    "data['age_cat'] = pd.cut(data['age'], \n",
    "                         bins=[0, 1, 5, 10, 25, np.inf], \n",
    "                         labels=['< 1yr', '< 5yr', '< 10yr', '< 25yr', '> 25yr'])\n",
    "data = data.drop('age', axis=1)\n",
    "data[['age_cat']] = data[['age_cat']].astype(str)\n",
    "data['age_cat'].hist()\n",
    "plt.show()"
   ]
  },
  {
   "cell_type": "code",
   "execution_count": 7,
   "metadata": {},
   "outputs": [
    {
     "data": {
      "image/png": "[encoded data removed]",
      "text/plain": [
       "<Figure size 432x288 with 1 Axes>"
      ]
     },
     "metadata": {
      "needs_background": "light"
     },
     "output_type": "display_data"
    }
   ],
   "source": [
    "data['stories_cat'] = pd.cut(data['stories'], \n",
    "                         bins=[0, 1, 2, 3, np.inf], \n",
    "                         labels=['1', '2', '3', '>=4'])\n",
    "data = data.drop('stories', axis=1)\n",
    "data[['stories_cat']] = data[['stories_cat']].astype(str)\n",
    "data['stories_cat'].hist()\n",
    "plt.show()"
   ]
  },
  {
   "cell_type": "code",
   "execution_count": 8,
   "metadata": {},
   "outputs": [
    {
     "name": "stdout",
     "output_type": "stream",
     "text": [
      "<class 'pandas.core.frame.DataFrame'>\n",
      "RangeIndex: 31947 entries, 0 to 31946\n",
      "Data columns (total 10 columns):\n",
      " #   Column        Non-Null Count  Dtype  \n",
      "---  ------        --------------  -----  \n",
      " 0   bedrooms      31947 non-null  object \n",
      " 1   Sqft.         31947 non-null  float64\n",
      " 2   lot Sqft.     31947 non-null  float64\n",
      " 3   full baths    31947 non-null  object \n",
      " 4   half baths    31947 non-null  object \n",
      " 5   Private Pool  31947 non-null  bool   \n",
      " 6   zip           31947 non-null  object \n",
      " 7   price         31947 non-null  float64\n",
      " 8   age_cat       31947 non-null  object \n",
      " 9   stories_cat   31947 non-null  object \n",
      "dtypes: bool(1), float64(3), object(6)\n",
      "memory usage: 2.2+ MB\n"
     ]
    }
   ],
   "source": [
    "data.info()"
   ]
  },
  {
   "cell_type": "code",
   "execution_count": 9,
   "metadata": {},
   "outputs": [
    {
     "name": "stdout",
     "output_type": "stream",
     "text": [
      "Index(['bedrooms', 'Sqft.', 'lot Sqft.', 'full baths', 'half baths',\n",
      "       'Private Pool', 'zip', 'age_cat', 'stories_cat'],\n",
      "      dtype='object')\n"
     ]
    }
   ],
   "source": [
    "X = data.drop('price', axis=1)\n",
    "y = data['price']\n",
    "X_train, X_test, y_train, y_test = train_test_split(X, y, test_size=0.2, random_state=42)\n",
    "print(X.columns)"
   ]
  },
  {
   "cell_type": "code",
   "execution_count": 10,
   "metadata": {},
   "outputs": [],
   "source": [
    "cat_col = ['bedrooms', 'full baths', 'half baths', 'stories_cat', 'zip', 'Private Pool', 'age_cat']\n",
    "num_col = ['Sqft.', 'lot Sqft.', 'full baths']\n",
    "\n",
    "num_pipeline = Pipeline([\n",
    "        ('std_scaler', StandardScaler())\n",
    "    ])\n",
    "\n",
    "full_pipeline = ColumnTransformer([\n",
    "        (\"num\", num_pipeline, num_col),\n",
    "        (\"cat\", OneHotEncoder(), cat_col),\n",
    "    ])\n",
    "\n",
    "X_train_prepared = full_pipeline.fit_transform(X_train)\n",
    "X_test_prepared = full_pipeline.transform(X_test)"
   ]
  },
  {
   "cell_type": "code",
   "execution_count": 13,
   "metadata": {},
   "outputs": [
    {
     "data": {
      "text/plain": [
       "0.4923938412741329"
      ]
     },
     "execution_count": 13,
     "metadata": {},
     "output_type": "execute_result"
    }
   ],
   "source": [
    "from sklearn.ensemble import RandomForestRegressor\n",
    "\n",
    "forest = RandomForestRegressor(n_estimators=100,\n",
    "                                max_depth=None,\n",
    "                                bootstrap=True,\n",
    "                                n_jobs=1, \n",
    "                                random_state=42).fit(X_train_prepared, y_train)\n",
    "forest.score(X_test_prepared, y_test)                                    "
   ]
  },
  {
   "cell_type": "code",
   "execution_count": 15,
   "metadata": {},
   "outputs": [
    {
     "data": {
      "text/plain": [
       "{'cv': None,\n",
       " 'error_score': nan,\n",
       " 'estimator__bootstrap': True,\n",
       " 'estimator__ccp_alpha': 0.0,\n",
       " 'estimator__criterion': 'squared_error',\n",
       " 'estimator__max_depth': None,\n",
       " 'estimator__max_features': 1.0,\n",
       " 'estimator__max_leaf_nodes': None,\n",
       " 'estimator__max_samples': None,\n",
       " 'estimator__min_impurity_decrease': 0.0,\n",
       " 'estimator__min_samples_leaf': 1,\n",
       " 'estimator__min_samples_split': 2,\n",
       " 'estimator__min_weight_fraction_leaf': 0.0,\n",
       " 'estimator__n_estimators': 100,\n",
       " 'estimator__n_jobs': -1,\n",
       " 'estimator__oob_score': False,\n",
       " 'estimator__random_state': None,\n",
       " 'estimator__verbose': 0,\n",
       " 'estimator__warm_start': False,\n",
       " 'estimator': RandomForestRegressor(n_jobs=-1),\n",
       " 'n_jobs': None,\n",
       " 'param_grid': {'n_estimators': (10, 25, 100),\n",
       "  'max_depth': (None, 2, 5),\n",
       "  'bootstrap': (True, False),\n",
       "  'warm_start': (True, False)},\n",
       " 'pre_dispatch': '2*n_jobs',\n",
       " 'refit': True,\n",
       " 'return_train_score': False,\n",
       " 'scoring': None,\n",
       " 'verbose': 0}"
      ]
     },
     "execution_count": 15,
     "metadata": {},
     "output_type": "execute_result"
    }
   ],
   "source": [
    "from sklearn.model_selection import GridSearchCV\n",
    "parameters = {'n_estimators':(10, 25, 100),\n",
    "              'max_depth':(None, 2, 5),\n",
    "              'bootstrap':(True, False),\n",
    "              'warm_start':(True, False)}\n",
    "forest_reg = RandomForestRegressor(n_jobs=-1)\n",
    "gs_forest = GridSearchCV(forest_reg, parameters)\n",
    "\n",
    "gs_forest.fit(X_train_prepared, y_train)\n",
    "gs_forest.get_params()"
   ]
  },
  {
   "cell_type": "code",
   "execution_count": 18,
   "metadata": {},
   "outputs": [
    {
     "data": {
      "text/plain": [
       "0.4888042248338976"
      ]
     },
     "execution_count": 18,
     "metadata": {},
     "output_type": "execute_result"
    }
   ],
   "source": [
    "gs_forest.score(X_test_prepared, y_test)"
   ]
  },
  {
   "cell_type": "code",
   "execution_count": null,
   "metadata": {},
   "outputs": [],
   "source": []
  }
 ],
 "metadata": {
  "kernelspec": {
   "display_name": "Python 3.9.12 ('deeplearning')",
   "language": "python",
   "name": "python3"
  },
  "language_info": {
   "codemirror_mode": {
    "name": "ipython",
    "version": 3
   },
   "file_extension": ".py",
   "mimetype": "text/x-python",
   "name": "python",
   "nbconvert_exporter": "python",
   "pygments_lexer": "ipython3",
   "version": "3.9.12"
  },
  "orig_nbformat": 4,
  "vscode": {
   "interpreter": {
    "hash": "2bb6cb09273b8afd7c4f49437f12601aa9c7fc62c6f938166925fa056364ee24"
   }
  }
 },
 "nbformat": 4,
 "nbformat_minor": 2
}
