{
 "cells": [
  {
   "cell_type": "code",
   "execution_count": 91,
   "metadata": {},
   "outputs": [],
   "source": [
    "from sklearn.model_selection import train_test_split\n",
    "from pandas.plotting import scatter_matrix\n",
    "from sklearn.linear_model import LinearRegression\n",
    "from sklearn.metrics import mean_squared_error\n",
    "from sklearn.model_selection import cross_val_score\n",
    "from sklearn.preprocessing import OneHotEncoder\n",
    "from sklearn.pipeline import Pipeline\n",
    "from sklearn.preprocessing import StandardScaler\n",
    "from sklearn.compose import ColumnTransformer\n",
    "import matplotlib.pyplot as plt\n",
    "import pandas as pd\n",
    "import seaborn as sns\n",
    "import numpy as np\n",
    "import sklearn\n",
    "from sklearn.decomposition import PCA\n",
    "from sklearn.model_selection import GridSearchCV\n",
    "from sklearn.linear_model import Ridge\n",
    "from sklearn.linear_model import Lasso\n",
    "from sklearn.ensemble import RandomForestRegressor\n",
    "from sklearn.ensemble import GradientBoostingRegressor\n",
    "from sklearn.svm import SVR\n",
    "from sklearn.inspection import PartialDependenceDisplay\n",
    "\n",
    "plt.style.use(\"dark_background\")"
   ]
  },
  {
   "cell_type": "code",
   "execution_count": 78,
   "metadata": {},
   "outputs": [
    {
     "name": "stdout",
     "output_type": "stream",
     "text": [
      "<class 'pandas.core.frame.DataFrame'>\n",
      "Int64Index: 28197 entries, 13656 to 23654\n",
      "Data columns (total 9 columns):\n",
      " #   Column        Non-Null Count  Dtype  \n",
      "---  ------        --------------  -----  \n",
      " 0   bedrooms      28197 non-null  float64\n",
      " 1   Sqft.         28197 non-null  float64\n",
      " 2   lot Sqft.     28197 non-null  float64\n",
      " 3   full baths    28197 non-null  float64\n",
      " 4   half baths    28197 non-null  int64  \n",
      " 5   stories       28197 non-null  float64\n",
      " 6   Private Pool  28197 non-null  bool   \n",
      " 7   zipTier       28197 non-null  object \n",
      " 8   age           28197 non-null  float64\n",
      "dtypes: bool(1), float64(6), int64(1), object(1)\n",
      "memory usage: 2.0+ MB\n"
     ]
    }
   ],
   "source": [
    "data = pd.read_csv('C:\\\\Users\\\\corey\\\\Desktop\\\\git\\\\portfolio\\\\data_portfolio\\\\realestate_ml\\\\data\\\\houston_houses_engineered.csv', index_col=0)\n",
    "data['zipTier'] = data['zipTier'].astype('str')\n",
    "X = data.drop(['price', 'zip'], axis=1)\n",
    "y = data['price']\n",
    "X_train, X_test, y_train, y_test = train_test_split(X, y, test_size=0.10, random_state=42)\n",
    "\n",
    "X_train.info()"
   ]
  },
  {
   "cell_type": "code",
   "execution_count": 79,
   "metadata": {},
   "outputs": [
    {
     "data": {
      "text/plain": [
       "array([0.439986  , 0.16166012, 0.13361651, 0.12271556, 0.06586429,\n",
       "       0.05249675, 0.02366077])"
      ]
     },
     "execution_count": 79,
     "metadata": {},
     "output_type": "execute_result"
    }
   ],
   "source": [
    "cat_col = ['zipTier', 'Private Pool']\n",
    "num_col = ['bedrooms', 'Sqft.', 'lot Sqft.', 'full baths', 'half baths', 'stories', 'age']\n",
    "num_pipeline = Pipeline([\n",
    "                ('std_scaler', StandardScaler())\n",
    "               ])\n",
    "X_train_nums = num_pipeline.fit_transform(X_train[num_col])\n",
    "\n",
    "pca = PCA(n_components=7)\n",
    "pca.fit(X_train_nums)\n",
    "\n",
    "pca.explained_variance_ratio_"
   ]
  },
  {
   "cell_type": "code",
   "execution_count": 80,
   "metadata": {},
   "outputs": [
    {
     "data": {
      "image/png": "[encoded data removed]",
      "text/plain": [
       "<Figure size 432x288 with 1 Axes>"
      ]
     },
     "metadata": {},
     "output_type": "display_data"
    }
   ],
   "source": [
    "plt.bar(range(1, 8), pca.explained_variance_ratio_, alpha=0.5, align='center')\n",
    "plt.plot(range(1, 8), np.cumsum(pca.explained_variance_ratio_))\n",
    "plt.ylabel('Explained variance ratio')\n",
    "plt.xlabel('Principal components')\n",
    "plt.show()"
   ]
  },
  {
   "cell_type": "code",
   "execution_count": 81,
   "metadata": {},
   "outputs": [],
   "source": [
    "\n",
    "def prepareXData(x_data, cat_cols, num_cols, dropFirst=False):\n",
    "    \"\"\"\n",
    "    Accepts: training data and whether or not to drop the first category in OHE\n",
    "    Returns: prepared data\n",
    "    \"\"\"\n",
    "    num_pipeline = Pipeline([\n",
    "            ('std_scaler', StandardScaler())\n",
    "        ])\n",
    "    cat_pipeline = Pipeline([\n",
    "        ('OHE_drop_first', OneHotEncoder())\n",
    "    ])\n",
    "    cat_pipe_drop_first = Pipeline([\n",
    "        ('OHE_drop_first', OneHotEncoder(drop='first'))\n",
    "    ])\n",
    "\n",
    "    full_pipeline = ColumnTransformer([\n",
    "            (\"num\", num_pipeline, num_cols),\n",
    "            (\"cat\", cat_pipe_drop_first if dropFirst else cat_pipeline, cat_cols),\n",
    "        ])\n",
    "    return full_pipeline\n",
    "    \n"
   ]
  },
  {
   "cell_type": "code",
   "execution_count": 82,
   "metadata": {},
   "outputs": [],
   "source": [
    "cat_cols = ['zipTier', 'Private Pool']\n",
    "num_cols = ['bedrooms', 'Sqft.', 'lot Sqft.', 'full baths', 'half baths', 'stories', 'age']\n",
    "\n",
    "l1_pipeline = prepareXData(X_train, dropFirst=True, cat_cols=cat_cols, num_cols=num_cols)\n",
    "l2_pipeline = prepareXData(X_train, dropFirst=False, cat_cols=cat_cols, num_cols=num_cols)\n",
    "\n",
    "X_train_prep, X_test_prep = l1_pipeline.fit_transform(X_train), l1_pipeline.transform(X_test)\n",
    "X_train_prep_dropfirst, X_test_prep_droppfirst = l2_pipeline.fit_transform(X_train), l2_pipeline.transform(X_test)"
   ]
  },
  {
   "cell_type": "code",
   "execution_count": 83,
   "metadata": {},
   "outputs": [],
   "source": [
    "def evalModel(X, y, model, folds):\n",
    "    model.fit(X, y)\n",
    "    score = model.score(X, y)\n",
    "    scores = cross_val_score(model, X, y, cv=folds)\n",
    "    mae = mean_squared_error(y, model.predict(X))\n",
    "    #print(model.score(X, y))\n",
    "    print(f'Cross validation scores: {scores}')\n",
    "    print(f'R^2 score: {score}')\n",
    "    print(f'MAE: {mae}')"
   ]
  },
  {
   "cell_type": "code",
   "execution_count": 84,
   "metadata": {},
   "outputs": [
    {
     "name": "stdout",
     "output_type": "stream",
     "text": [
      "Cross validation scores: [0.49304642 0.51262162 0.55539863 0.52280262 0.37285163]\n",
      "R^2 score: 0.49749533508123267\n",
      "MAE: 162572660232.38614\n"
     ]
    }
   ],
   "source": [
    "lm = LinearRegression()\n",
    "evalModel(X_train_prep, y_train, lm, 5)"
   ]
  },
  {
   "cell_type": "code",
   "execution_count": null,
   "metadata": {},
   "outputs": [],
   "source": [
    "PartialDependenceDisplay.from_estimator(lm, X_train_prep, ['Sqft.', ('Sqft.', 'price')])"
   ]
  },
  {
   "cell_type": "code",
   "execution_count": 85,
   "metadata": {},
   "outputs": [
    {
     "name": "stdout",
     "output_type": "stream",
     "text": [
      "Cross validation scores: [0.49313759 0.51262751 0.55534394 0.52277726 0.37287693]\n",
      "R^2 score: 0.49749492586763233\n",
      "MAE: 162572792623.0847\n"
     ]
    }
   ],
   "source": [
    "rr = Ridge(alpha=1, fit_intercept=False, solver='auto')\n",
    "evalModel(X_train_prep_dropfirst, y_train, rr, 5)"
   ]
  },
  {
   "cell_type": "code",
   "execution_count": 86,
   "metadata": {},
   "outputs": [
    {
     "name": "stdout",
     "output_type": "stream",
     "text": [
      "Cross validation scores: [0.49333795 0.51258829 0.55520789 0.52269719 0.3729431 ]\n",
      "R^2 score: 0.4974898060740939\n",
      "MAE: 162574449002.6439\n"
     ]
    }
   ],
   "source": [
    "lasso = Lasso(alpha=75.0, max_iter=3000, selection='random')\n",
    "evalModel(X_train_prep_dropfirst, y_train, lasso, 5)"
   ]
  },
  {
   "cell_type": "code",
   "execution_count": 87,
   "metadata": {},
   "outputs": [
    {
     "name": "stdout",
     "output_type": "stream",
     "text": [
      "Cross validation scores: [0.57105572 0.40679566 0.59902113 0.61816989 0.440697  ]\n",
      "R^2 score: 0.9269973475963007\n",
      "MAE: 23618159658.693226\n"
     ]
    }
   ],
   "source": [
    "forest = RandomForestRegressor(n_estimators=100,\n",
    "                                max_depth=None,\n",
    "                                bootstrap=True,\n",
    "                                n_jobs=1, \n",
    "                                random_state=42)\n",
    "\n",
    "evalModel(X_train_prep, y_train, forest, 5)                                "
   ]
  },
  {
   "cell_type": "code",
   "execution_count": 88,
   "metadata": {},
   "outputs": [
    {
     "name": "stdout",
     "output_type": "stream",
     "text": [
      "Cross validation scores: [0.54363636 0.50978089 0.61689979 0.68333904 0.45797037]\n",
      "R^2 score: 0.8041792659094864\n",
      "MAE: 63352840067.4645\n"
     ]
    }
   ],
   "source": [
    "forest_gb = GradientBoostingRegressor(loss='squared_error',\n",
    "                                   learning_rate=0.1,\n",
    "                                   n_estimators=500,\n",
    "                                   criterion='friedman_mse',\n",
    "                                   max_depth=3,\n",
    "                                   random_state=42)\n",
    "\n",
    "evalModel(X_train_prep_dropfirst, y_train, forest_gb, 5)  "
   ]
  },
  {
   "cell_type": "code",
   "execution_count": 89,
   "metadata": {},
   "outputs": [
    {
     "name": "stdout",
     "output_type": "stream",
     "text": [
      "Cross validation scores: [0.06490191 0.04547359 0.02849264 0.05467103 0.02794127]\n",
      "R^2 score: 0.05165385276180978\n",
      "MAE: 306813382523.6628\n",
      "Cross validation scores: [0.36356253 0.34835266 0.32567318 0.35828266 0.24812132]\n",
      "R^2 score: 0.3297788381202036\n",
      "MAE: 216833086014.14307\n",
      "Cross validation scores: [0.27476465 0.4556893  0.61211974 0.45595182 0.29315802]\n",
      "R^2 score: 0.47210972353182634\n",
      "MAE: 170785532050.95947\n"
     ]
    }
   ],
   "source": [
    "\n",
    "\n",
    "svr_rbf = SVR(kernel=\"rbf\", C=100, gamma=0.1, epsilon=0.1)\n",
    "svr_lin = SVR(kernel=\"linear\", C=100, gamma=\"auto\")\n",
    "svr_poly = SVR(kernel=\"poly\", C=100, gamma=\"auto\", degree=3, epsilon=0.1, coef0=1)\n",
    "\n",
    "evalModel(X_train_prep_dropfirst, y_train, svr_rbf, 5)\n",
    "evalModel(X_train_prep_dropfirst, y_train, svr_lin, 5)\n",
    "evalModel(X_train_prep_dropfirst, y_train, svr_poly, 5)"
   ]
  },
  {
   "cell_type": "code",
   "execution_count": 90,
   "metadata": {},
   "outputs": [
    {
     "name": "stdout",
     "output_type": "stream",
     "text": [
      "Cross validation scores: [0.06375494 0.04471388 0.02809979 0.05362622 0.02712159]\n",
      "R^2 score: 0.05099457156981446\n",
      "MAE: 307026676259.43567\n",
      "Cross validation scores: [0.35597355 0.34157476 0.32000971 0.34943113 0.24313809]\n",
      "R^2 score: 0.32304429033011983\n",
      "MAE: 219011878423.70813\n",
      "Cross validation scores: [0.19065511 0.46597089 0.59550054 0.46538423 0.28527279]\n",
      "R^2 score: 0.4764877393848328\n",
      "MAE: 169369135879.03958\n"
     ]
    }
   ],
   "source": [
    "svr_rbf = SVR(kernel=\"rbf\", C=100, gamma=0.1, epsilon=0.1)\n",
    "svr_lin = SVR(kernel=\"linear\", C=100, gamma=\"auto\")\n",
    "svr_poly = SVR(kernel=\"poly\", C=100, gamma=\"auto\", degree=3, epsilon=0.1, coef0=1)\n",
    "\n",
    "evalModel(X_train_prep, y_train, svr_rbf, 5)\n",
    "evalModel(X_train_prep, y_train, svr_lin, 5)\n",
    "evalModel(X_train_prep, y_train, svr_poly, 5)"
   ]
  },
  {
   "cell_type": "code",
   "execution_count": null,
   "metadata": {},
   "outputs": [],
   "source": []
  }
 ],
 "metadata": {
  "kernelspec": {
   "display_name": "Python 3.9.12 ('deeplearning')",
   "language": "python",
   "name": "python3"
  },
  "language_info": {
   "codemirror_mode": {
    "name": "ipython",
    "version": 3
   },
   "file_extension": ".py",
   "mimetype": "text/x-python",
   "name": "python",
   "nbconvert_exporter": "python",
   "pygments_lexer": "ipython3",
   "version": "3.9.12"
  },
  "orig_nbformat": 4,
  "vscode": {
   "interpreter": {
    "hash": "2bb6cb09273b8afd7c4f49437f12601aa9c7fc62c6f938166925fa056364ee24"
   }
  }
 },
 "nbformat": 4,
 "nbformat_minor": 2
}
