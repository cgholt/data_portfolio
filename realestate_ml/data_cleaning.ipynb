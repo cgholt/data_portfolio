{
 "cells": [
  {
   "cell_type": "code",
   "execution_count": 93,
   "metadata": {},
   "outputs": [],
   "source": [
    "from sklearn.model_selection import StratifiedShuffleSplit\n",
    "from sklearn.model_selection import train_test_split\n",
    "from sklearn.preprocessing import OneHotEncoder\n",
    "from pandas.plotting import scatter_matrix\n",
    "import matplotlib.pyplot as plt\n",
    "import seaborn as sns\n",
    "import pandas as pd\n",
    "import numpy as np\n",
    "import sklearn"
   ]
  },
  {
   "cell_type": "code",
   "execution_count": 94,
   "metadata": {},
   "outputs": [],
   "source": [
    "plt.style.use(\"dark_background\")"
   ]
  },
  {
   "cell_type": "code",
   "execution_count": 95,
   "metadata": {},
   "outputs": [],
   "source": [
    "### Upload data"
   ]
  },
  {
   "cell_type": "code",
   "execution_count": 96,
   "metadata": {},
   "outputs": [],
   "source": [
    "houston_data = pd.read_csv('C:\\\\Users\\\\corey\\\\Desktop\\\\git\\\\portfolio\\\\data_portfolio\\\\realestate_ml\\\\data\\\\houston_houses.csv')"
   ]
  },
  {
   "cell_type": "code",
   "execution_count": 97,
   "metadata": {},
   "outputs": [
    {
     "data": {
      "text/html": [
       "<div>\n",
       "<style scoped>\n",
       "    .dataframe tbody tr th:only-of-type {\n",
       "        vertical-align: middle;\n",
       "    }\n",
       "\n",
       "    .dataframe tbody tr th {\n",
       "        vertical-align: top;\n",
       "    }\n",
       "\n",
       "    .dataframe thead th {\n",
       "        text-align: right;\n",
       "    }\n",
       "</style>\n",
       "<table border=\"1\" class=\"dataframe\">\n",
       "  <thead>\n",
       "    <tr style=\"text-align: right;\">\n",
       "      <th></th>\n",
       "      <th>Unnamed: 0</th>\n",
       "      <th>bedrooms</th>\n",
       "      <th>Sqft.</th>\n",
       "      <th>lot Sqft.</th>\n",
       "      <th>full baths</th>\n",
       "      <th>half baths</th>\n",
       "      <th>stories</th>\n",
       "      <th>year built</th>\n",
       "      <th>Private Pool</th>\n",
       "      <th>Acres</th>\n",
       "      <th>zip</th>\n",
       "      <th>price</th>\n",
       "      <th>long</th>\n",
       "      <th>lat</th>\n",
       "    </tr>\n",
       "  </thead>\n",
       "  <tbody>\n",
       "    <tr>\n",
       "      <th>0</th>\n",
       "      <td>4830 Tain Drive Houston, TX 77084</td>\n",
       "      <td>3.0</td>\n",
       "      <td>1758.0</td>\n",
       "      <td>7150.0</td>\n",
       "      <td>2.0</td>\n",
       "      <td>0</td>\n",
       "      <td>1.0</td>\n",
       "      <td>1978.0</td>\n",
       "      <td>False</td>\n",
       "      <td>NaN</td>\n",
       "      <td>77084</td>\n",
       "      <td>221000.0</td>\n",
       "      <td>-95.652124</td>\n",
       "      <td>29.846731</td>\n",
       "    </tr>\n",
       "    <tr>\n",
       "      <th>1</th>\n",
       "      <td>11906 Glenway Drive Houston, TX 77070</td>\n",
       "      <td>4.0</td>\n",
       "      <td>2958.0</td>\n",
       "      <td>9400.0</td>\n",
       "      <td>3.0</td>\n",
       "      <td>1</td>\n",
       "      <td>2.0</td>\n",
       "      <td>1980.0</td>\n",
       "      <td>False</td>\n",
       "      <td>NaN</td>\n",
       "      <td>77070</td>\n",
       "      <td>359500.0</td>\n",
       "      <td>-95.603209</td>\n",
       "      <td>29.981791</td>\n",
       "    </tr>\n",
       "    <tr>\n",
       "      <th>2</th>\n",
       "      <td>1032 Alexander Street Houston, TX 77008</td>\n",
       "      <td>3.0</td>\n",
       "      <td>1120.0</td>\n",
       "      <td>6000.0</td>\n",
       "      <td>2.0</td>\n",
       "      <td>0</td>\n",
       "      <td>1.0</td>\n",
       "      <td>1936.0</td>\n",
       "      <td>False</td>\n",
       "      <td>NaN</td>\n",
       "      <td>77008</td>\n",
       "      <td>825000.0</td>\n",
       "      <td>-95.407932</td>\n",
       "      <td>29.789353</td>\n",
       "    </tr>\n",
       "    <tr>\n",
       "      <th>3</th>\n",
       "      <td>7638 Ashton Drive Houston, TX 77095</td>\n",
       "      <td>3.0</td>\n",
       "      <td>1714.0</td>\n",
       "      <td>5500.0</td>\n",
       "      <td>2.0</td>\n",
       "      <td>0</td>\n",
       "      <td>1.0</td>\n",
       "      <td>1986.0</td>\n",
       "      <td>False</td>\n",
       "      <td>NaN</td>\n",
       "      <td>77095</td>\n",
       "      <td>289995.0</td>\n",
       "      <td>-95.662173</td>\n",
       "      <td>29.896486</td>\n",
       "    </tr>\n",
       "    <tr>\n",
       "      <th>4</th>\n",
       "      <td>5220 Antha Street Houston, TX 77016</td>\n",
       "      <td>0.0</td>\n",
       "      <td>1470.0</td>\n",
       "      <td>4895.0</td>\n",
       "      <td>0.0</td>\n",
       "      <td>0</td>\n",
       "      <td>1.0</td>\n",
       "      <td>1977.0</td>\n",
       "      <td>False</td>\n",
       "      <td>NaN</td>\n",
       "      <td>77016</td>\n",
       "      <td>280000.0</td>\n",
       "      <td>-95.316054</td>\n",
       "      <td>29.849447</td>\n",
       "    </tr>\n",
       "  </tbody>\n",
       "</table>\n",
       "</div>"
      ],
      "text/plain": [
       "                                Unnamed: 0  bedrooms   Sqft.  lot Sqft.  \\\n",
       "0        4830 Tain Drive Houston, TX 77084       3.0  1758.0     7150.0   \n",
       "1    11906 Glenway Drive Houston, TX 77070       4.0  2958.0     9400.0   \n",
       "2  1032 Alexander Street Houston, TX 77008       3.0  1120.0     6000.0   \n",
       "3      7638 Ashton Drive Houston, TX 77095       3.0  1714.0     5500.0   \n",
       "4      5220 Antha Street Houston, TX 77016       0.0  1470.0     4895.0   \n",
       "\n",
       "   full baths  half baths  stories  year built  Private Pool  Acres    zip  \\\n",
       "0         2.0           0      1.0      1978.0         False    NaN  77084   \n",
       "1         3.0           1      2.0      1980.0         False    NaN  77070   \n",
       "2         2.0           0      1.0      1936.0         False    NaN  77008   \n",
       "3         2.0           0      1.0      1986.0         False    NaN  77095   \n",
       "4         0.0           0      1.0      1977.0         False    NaN  77016   \n",
       "\n",
       "      price       long        lat  \n",
       "0  221000.0 -95.652124  29.846731  \n",
       "1  359500.0 -95.603209  29.981791  \n",
       "2  825000.0 -95.407932  29.789353  \n",
       "3  289995.0 -95.662173  29.896486  \n",
       "4  280000.0 -95.316054  29.849447  "
      ]
     },
     "execution_count": 97,
     "metadata": {},
     "output_type": "execute_result"
    }
   ],
   "source": [
    "houston_data.head()"
   ]
  },
  {
   "cell_type": "code",
   "execution_count": 98,
   "metadata": {},
   "outputs": [
    {
     "name": "stdout",
     "output_type": "stream",
     "text": [
      "<class 'pandas.core.frame.DataFrame'>\n",
      "RangeIndex: 39005 entries, 0 to 39004\n",
      "Data columns (total 14 columns):\n",
      " #   Column        Non-Null Count  Dtype  \n",
      "---  ------        --------------  -----  \n",
      " 0   Unnamed: 0    39005 non-null  object \n",
      " 1   bedrooms      39005 non-null  float64\n",
      " 2   Sqft.         39005 non-null  float64\n",
      " 3   lot Sqft.     39005 non-null  float64\n",
      " 4   full baths    39005 non-null  float64\n",
      " 5   half baths    39005 non-null  int64  \n",
      " 6   stories       39005 non-null  float64\n",
      " 7   year built    32422 non-null  float64\n",
      " 8   Private Pool  39005 non-null  bool   \n",
      " 9   Acres         6023 non-null   float64\n",
      " 10  zip           39005 non-null  object \n",
      " 11  price         39005 non-null  float64\n",
      " 12  long          23645 non-null  float64\n",
      " 13  lat           23645 non-null  float64\n",
      "dtypes: bool(1), float64(10), int64(1), object(2)\n",
      "memory usage: 3.9+ MB\n"
     ]
    }
   ],
   "source": [
    "houston_data.info()"
   ]
  },
  {
   "cell_type": "code",
   "execution_count": 99,
   "metadata": {},
   "outputs": [
    {
     "data": {
      "text/html": [
       "<div>\n",
       "<style scoped>\n",
       "    .dataframe tbody tr th:only-of-type {\n",
       "        vertical-align: middle;\n",
       "    }\n",
       "\n",
       "    .dataframe tbody tr th {\n",
       "        vertical-align: top;\n",
       "    }\n",
       "\n",
       "    .dataframe thead th {\n",
       "        text-align: right;\n",
       "    }\n",
       "</style>\n",
       "<table border=\"1\" class=\"dataframe\">\n",
       "  <thead>\n",
       "    <tr style=\"text-align: right;\">\n",
       "      <th></th>\n",
       "      <th>bedrooms</th>\n",
       "      <th>Sqft.</th>\n",
       "      <th>lot Sqft.</th>\n",
       "      <th>full baths</th>\n",
       "      <th>half baths</th>\n",
       "      <th>stories</th>\n",
       "      <th>year built</th>\n",
       "      <th>Acres</th>\n",
       "      <th>price</th>\n",
       "      <th>long</th>\n",
       "      <th>lat</th>\n",
       "    </tr>\n",
       "  </thead>\n",
       "  <tbody>\n",
       "    <tr>\n",
       "      <th>count</th>\n",
       "      <td>39005.000000</td>\n",
       "      <td>3.900500e+04</td>\n",
       "      <td>3.900500e+04</td>\n",
       "      <td>39005.000000</td>\n",
       "      <td>39005.000000</td>\n",
       "      <td>39005.000000</td>\n",
       "      <td>3.242200e+04</td>\n",
       "      <td>6023.000000</td>\n",
       "      <td>3.900500e+04</td>\n",
       "      <td>23645.000000</td>\n",
       "      <td>23645.000000</td>\n",
       "    </tr>\n",
       "    <tr>\n",
       "      <th>mean</th>\n",
       "      <td>2.931214</td>\n",
       "      <td>2.350720e+03</td>\n",
       "      <td>1.050663e+04</td>\n",
       "      <td>1.994821</td>\n",
       "      <td>0.423741</td>\n",
       "      <td>1.605049</td>\n",
       "      <td>3.227100e+03</td>\n",
       "      <td>22.059372</td>\n",
       "      <td>5.066283e+05</td>\n",
       "      <td>-95.485458</td>\n",
       "      <td>29.837295</td>\n",
       "    </tr>\n",
       "    <tr>\n",
       "      <th>std</th>\n",
       "      <td>1.554800</td>\n",
       "      <td>5.784915e+04</td>\n",
       "      <td>4.179896e+04</td>\n",
       "      <td>1.180345</td>\n",
       "      <td>0.546580</td>\n",
       "      <td>21.658795</td>\n",
       "      <td>1.556813e+05</td>\n",
       "      <td>614.587994</td>\n",
       "      <td>7.352763e+05</td>\n",
       "      <td>0.516037</td>\n",
       "      <td>0.404459</td>\n",
       "    </tr>\n",
       "    <tr>\n",
       "      <th>min</th>\n",
       "      <td>0.000000</td>\n",
       "      <td>0.000000e+00</td>\n",
       "      <td>0.000000e+00</td>\n",
       "      <td>0.000000</td>\n",
       "      <td>0.000000</td>\n",
       "      <td>1.000000</td>\n",
       "      <td>0.000000e+00</td>\n",
       "      <td>0.000000</td>\n",
       "      <td>1.000000e+00</td>\n",
       "      <td>-102.313998</td>\n",
       "      <td>28.875099</td>\n",
       "    </tr>\n",
       "    <tr>\n",
       "      <th>25%</th>\n",
       "      <td>3.000000</td>\n",
       "      <td>1.344000e+03</td>\n",
       "      <td>0.000000e+00</td>\n",
       "      <td>2.000000</td>\n",
       "      <td>0.000000</td>\n",
       "      <td>1.000000</td>\n",
       "      <td>1.984000e+03</td>\n",
       "      <td>1.300000</td>\n",
       "      <td>2.649850e+05</td>\n",
       "      <td>-95.605023</td>\n",
       "      <td>29.659383</td>\n",
       "    </tr>\n",
       "    <tr>\n",
       "      <th>50%</th>\n",
       "      <td>3.000000</td>\n",
       "      <td>1.986000e+03</td>\n",
       "      <td>6.181000e+03</td>\n",
       "      <td>2.000000</td>\n",
       "      <td>0.000000</td>\n",
       "      <td>1.000000</td>\n",
       "      <td>2.012000e+03</td>\n",
       "      <td>2.600000</td>\n",
       "      <td>3.649900e+05</td>\n",
       "      <td>-95.443525</td>\n",
       "      <td>29.791258</td>\n",
       "    </tr>\n",
       "    <tr>\n",
       "      <th>75%</th>\n",
       "      <td>4.000000</td>\n",
       "      <td>2.676000e+03</td>\n",
       "      <td>8.855000e+03</td>\n",
       "      <td>3.000000</td>\n",
       "      <td>1.000000</td>\n",
       "      <td>2.000000</td>\n",
       "      <td>2.022000e+03</td>\n",
       "      <td>8.200000</td>\n",
       "      <td>5.281400e+05</td>\n",
       "      <td>-95.258787</td>\n",
       "      <td>30.013098</td>\n",
       "    </tr>\n",
       "    <tr>\n",
       "      <th>max</th>\n",
       "      <td>11.000000</td>\n",
       "      <td>1.140106e+07</td>\n",
       "      <td>1.441410e+06</td>\n",
       "      <td>9.000000</td>\n",
       "      <td>9.000000</td>\n",
       "      <td>3306.000000</td>\n",
       "      <td>1.990202e+07</td>\n",
       "      <td>46174.000000</td>\n",
       "      <td>2.650000e+07</td>\n",
       "      <td>-93.414739</td>\n",
       "      <td>34.260895</td>\n",
       "    </tr>\n",
       "  </tbody>\n",
       "</table>\n",
       "</div>"
      ],
      "text/plain": [
       "           bedrooms         Sqft.     lot Sqft.    full baths    half baths  \\\n",
       "count  39005.000000  3.900500e+04  3.900500e+04  39005.000000  39005.000000   \n",
       "mean       2.931214  2.350720e+03  1.050663e+04      1.994821      0.423741   \n",
       "std        1.554800  5.784915e+04  4.179896e+04      1.180345      0.546580   \n",
       "min        0.000000  0.000000e+00  0.000000e+00      0.000000      0.000000   \n",
       "25%        3.000000  1.344000e+03  0.000000e+00      2.000000      0.000000   \n",
       "50%        3.000000  1.986000e+03  6.181000e+03      2.000000      0.000000   \n",
       "75%        4.000000  2.676000e+03  8.855000e+03      3.000000      1.000000   \n",
       "max       11.000000  1.140106e+07  1.441410e+06      9.000000      9.000000   \n",
       "\n",
       "            stories    year built         Acres         price          long  \\\n",
       "count  39005.000000  3.242200e+04   6023.000000  3.900500e+04  23645.000000   \n",
       "mean       1.605049  3.227100e+03     22.059372  5.066283e+05    -95.485458   \n",
       "std       21.658795  1.556813e+05    614.587994  7.352763e+05      0.516037   \n",
       "min        1.000000  0.000000e+00      0.000000  1.000000e+00   -102.313998   \n",
       "25%        1.000000  1.984000e+03      1.300000  2.649850e+05    -95.605023   \n",
       "50%        1.000000  2.012000e+03      2.600000  3.649900e+05    -95.443525   \n",
       "75%        2.000000  2.022000e+03      8.200000  5.281400e+05    -95.258787   \n",
       "max     3306.000000  1.990202e+07  46174.000000  2.650000e+07    -93.414739   \n",
       "\n",
       "                lat  \n",
       "count  23645.000000  \n",
       "mean      29.837295  \n",
       "std        0.404459  \n",
       "min       28.875099  \n",
       "25%       29.659383  \n",
       "50%       29.791258  \n",
       "75%       30.013098  \n",
       "max       34.260895  "
      ]
     },
     "execution_count": 99,
     "metadata": {},
     "output_type": "execute_result"
    }
   ],
   "source": [
    "houston_data.describe()"
   ]
  },
  {
   "cell_type": "markdown",
   "metadata": {},
   "source": [
    "## Data Anomalies\n",
    "### This section highlights and justifies various data anomalies then removes the associated rows\n"
   ]
  },
  {
   "cell_type": "code",
   "execution_count": 100,
   "metadata": {},
   "outputs": [
    {
     "name": "stdout",
     "output_type": "stream",
     "text": [
      "Number of zip codes with fewer than 10 instances: 50\n"
     ]
    }
   ],
   "source": [
    "zip_counts = houston_data['zip'].value_counts()\n",
    "#print(zip_counts[zip_counts < 10])\n",
    "low_zip_counts = zip_counts[zip_counts < 10].reset_index()['index'].values\n",
    "print(f'Number of zip codes with fewer than 10 instances: {len(low_zip_counts)}')"
   ]
  },
  {
   "cell_type": "code",
   "execution_count": 101,
   "metadata": {},
   "outputs": [
    {
     "name": "stdout",
     "output_type": "stream",
     "text": [
      "Number of homes with \"year built\" after 2022: 406\n",
      "Number of homes with \"year built\" as NaN or 0: 6599\n",
      "Number of homes with a \"year built\" as NaN or 0 and \"bedrooms\" > 0: 0\n"
     ]
    }
   ],
   "source": [
    "years_after_22 = houston_data.loc[houston_data['year built'] > 2022]\n",
    "year_0 = houston_data.loc[houston_data['year built'] == 0] + houston_data.loc[houston_data['year built'].isna()]\n",
    "year_0_with_bedrooms = year_0.loc[year_0['bedrooms'] > 0]\n",
    "\n",
    "print(f'Number of homes with \"year built\" after 2022: {len(years_after_22)}')\n",
    "print(f'Number of homes with \"year built\" as NaN or 0: {len(year_0)}')\n",
    "print(f'Number of homes with a \"year built\" as NaN or 0 and \"bedrooms\" > 0: {len(year_0_with_bedrooms)}')"
   ]
  },
  {
   "cell_type": "code",
   "execution_count": 102,
   "metadata": {},
   "outputs": [
    {
     "name": "stdout",
     "output_type": "stream",
     "text": [
      "Number of homes that list a sqare footage but have zero bedrooms: 558\n",
      "Number of homes that list zero sqare footage but bedrooms: 133\n"
     ]
    }
   ],
   "source": [
    "mislabeledHomes1 = houston_data.loc[houston_data['Sqft.'] > 0].loc[houston_data['bedrooms'] == 0]['Unnamed: 0'].values\n",
    "print(f'Number of homes that list a sqare footage but have zero bedrooms: {len(mislabeledHomes1)}')\n",
    "\n",
    "mislabeledHomes2 = houston_data.loc[houston_data['Sqft.'] == 0].loc[houston_data['bedrooms'] > 0]['Unnamed: 0'].values\n",
    "print(f'Number of homes that list zero sqare footage but bedrooms: {len(mislabeledHomes2)}')"
   ]
  },
  {
   "cell_type": "code",
   "execution_count": 103,
   "metadata": {},
   "outputs": [
    {
     "name": "stdout",
     "output_type": "stream",
     "text": [
      "Number of homes with stories greater than 5: 10\n"
     ]
    }
   ],
   "source": [
    "story_error = houston_data.loc[houston_data['stories'] > 5]\n",
    "print(f'Number of homes with stories greater than 5: {len(story_error)}')"
   ]
  },
  {
   "cell_type": "code",
   "execution_count": 104,
   "metadata": {},
   "outputs": [
    {
     "name": "stdout",
     "output_type": "stream",
     "text": [
      "Percentage of homes with 6 or more full baths: 0.5024996795282656\n",
      "Percentage of homes with 3 or more half baths: 0.2486860658889886\n"
     ]
    }
   ],
   "source": [
    "full_baths = houston_data.loc[houston_data['full baths'] >= 6]\n",
    "half_baths = houston_data.loc[houston_data['half baths'] >= 3]\n",
    "print(f'Percentage of homes with 6 or more full baths: {len(full_baths)/len(houston_data)*100}')\n",
    "print(f'Percentage of homes with 3 or more half baths: {len(half_baths)/len(houston_data)*100}')"
   ]
  },
  {
   "cell_type": "code",
   "execution_count": 105,
   "metadata": {},
   "outputs": [],
   "source": [
    "# Drop Acres column\n",
    "houston_data = houston_data.drop(['Acres'], axis=1)\n",
    "\n",
    "# Drop long lat columns\n",
    "houston_data = houston_data.drop(['long', 'lat'], axis=1)\n",
    "\n",
    "# Drop rows where zip code is in low_zip_counts\n",
    "houston_data = houston_data[~houston_data['zip'].isin(low_zip_counts)]\n",
    "\n",
    "# Drop rows where \"year built\" is greater than 2022\n",
    "houston_data = houston_data[houston_data[\"year built\"] <= 2022]\n",
    "\n",
    "# Convert rows where \"year built\" equals NaN to 0\n",
    "houston_data['year built'] = houston_data['year built'].fillna(0)\n",
    "\n",
    "# Drop rows where Sqft/bedrooms are mislabeled\n",
    "houston_data = houston_data.loc[~houston_data['Unnamed: 0'].isin(mislabeledHomes1)]\n",
    "houston_data = houston_data.loc[~houston_data['Unnamed: 0'].isin(mislabeledHomes2)]\n",
    "\n",
    "# Drop rows where stories are mislabeled\n",
    "houston_data = houston_data.loc[houston_data['stories'] < 6]\n",
    "\n",
    "# Drop rows where number of full and half baths are greater than 5 and 2 respectively\n",
    "houston_data = houston_data.loc[houston_data['full baths'] <= 5]\n",
    "houston_data = houston_data.loc[houston_data['half baths'] <= 2]\n",
    "\n",
    "# Remove lots\n",
    "houston_data = houston_data.loc[houston_data['bedrooms'] > 0]\n",
    "houston_data = houston_data.loc[houston_data['full baths'] > 0]\n",
    "\n",
    "# Finally, drop home address\n",
    "houston_data = houston_data.drop(['Unnamed: 0'], axis=1)"
   ]
  },
  {
   "cell_type": "markdown",
   "metadata": {},
   "source": [
    "## Final Data"
   ]
  },
  {
   "cell_type": "code",
   "execution_count": 106,
   "metadata": {},
   "outputs": [
    {
     "data": {
      "text/html": [
       "<div>\n",
       "<style scoped>\n",
       "    .dataframe tbody tr th:only-of-type {\n",
       "        vertical-align: middle;\n",
       "    }\n",
       "\n",
       "    .dataframe tbody tr th {\n",
       "        vertical-align: top;\n",
       "    }\n",
       "\n",
       "    .dataframe thead th {\n",
       "        text-align: right;\n",
       "    }\n",
       "</style>\n",
       "<table border=\"1\" class=\"dataframe\">\n",
       "  <thead>\n",
       "    <tr style=\"text-align: right;\">\n",
       "      <th></th>\n",
       "      <th>bedrooms</th>\n",
       "      <th>Sqft.</th>\n",
       "      <th>lot Sqft.</th>\n",
       "      <th>full baths</th>\n",
       "      <th>half baths</th>\n",
       "      <th>stories</th>\n",
       "      <th>year built</th>\n",
       "      <th>Private Pool</th>\n",
       "      <th>zip</th>\n",
       "      <th>price</th>\n",
       "    </tr>\n",
       "  </thead>\n",
       "  <tbody>\n",
       "    <tr>\n",
       "      <th>0</th>\n",
       "      <td>3.0</td>\n",
       "      <td>1758.0</td>\n",
       "      <td>7150.0</td>\n",
       "      <td>2.0</td>\n",
       "      <td>0</td>\n",
       "      <td>1.0</td>\n",
       "      <td>1978.0</td>\n",
       "      <td>False</td>\n",
       "      <td>77084</td>\n",
       "      <td>221000.0</td>\n",
       "    </tr>\n",
       "    <tr>\n",
       "      <th>1</th>\n",
       "      <td>4.0</td>\n",
       "      <td>2958.0</td>\n",
       "      <td>9400.0</td>\n",
       "      <td>3.0</td>\n",
       "      <td>1</td>\n",
       "      <td>2.0</td>\n",
       "      <td>1980.0</td>\n",
       "      <td>False</td>\n",
       "      <td>77070</td>\n",
       "      <td>359500.0</td>\n",
       "    </tr>\n",
       "    <tr>\n",
       "      <th>2</th>\n",
       "      <td>3.0</td>\n",
       "      <td>1120.0</td>\n",
       "      <td>6000.0</td>\n",
       "      <td>2.0</td>\n",
       "      <td>0</td>\n",
       "      <td>1.0</td>\n",
       "      <td>1936.0</td>\n",
       "      <td>False</td>\n",
       "      <td>77008</td>\n",
       "      <td>825000.0</td>\n",
       "    </tr>\n",
       "    <tr>\n",
       "      <th>3</th>\n",
       "      <td>3.0</td>\n",
       "      <td>1714.0</td>\n",
       "      <td>5500.0</td>\n",
       "      <td>2.0</td>\n",
       "      <td>0</td>\n",
       "      <td>1.0</td>\n",
       "      <td>1986.0</td>\n",
       "      <td>False</td>\n",
       "      <td>77095</td>\n",
       "      <td>289995.0</td>\n",
       "    </tr>\n",
       "    <tr>\n",
       "      <th>5</th>\n",
       "      <td>2.0</td>\n",
       "      <td>1180.0</td>\n",
       "      <td>6960.0</td>\n",
       "      <td>1.0</td>\n",
       "      <td>0</td>\n",
       "      <td>1.0</td>\n",
       "      <td>1955.0</td>\n",
       "      <td>False</td>\n",
       "      <td>77033</td>\n",
       "      <td>128000.0</td>\n",
       "    </tr>\n",
       "  </tbody>\n",
       "</table>\n",
       "</div>"
      ],
      "text/plain": [
       "   bedrooms   Sqft.  lot Sqft.  full baths  half baths  stories  year built  \\\n",
       "0       3.0  1758.0     7150.0         2.0           0      1.0      1978.0   \n",
       "1       4.0  2958.0     9400.0         3.0           1      2.0      1980.0   \n",
       "2       3.0  1120.0     6000.0         2.0           0      1.0      1936.0   \n",
       "3       3.0  1714.0     5500.0         2.0           0      1.0      1986.0   \n",
       "5       2.0  1180.0     6960.0         1.0           0      1.0      1955.0   \n",
       "\n",
       "   Private Pool    zip     price  \n",
       "0         False  77084  221000.0  \n",
       "1         False  77070  359500.0  \n",
       "2         False  77008  825000.0  \n",
       "3         False  77095  289995.0  \n",
       "5         False  77033  128000.0  "
      ]
     },
     "execution_count": 106,
     "metadata": {},
     "output_type": "execute_result"
    }
   ],
   "source": [
    "houston_data.head()"
   ]
  },
  {
   "cell_type": "code",
   "execution_count": 107,
   "metadata": {},
   "outputs": [
    {
     "data": {
      "image/png": "[encoded data removed]",
      "text/plain": [
       "<Figure size 1080x576 with 8 Axes>"
      ]
     },
     "metadata": {},
     "output_type": "display_data"
    }
   ],
   "source": [
    "houston_data.columns\n",
    "num_cols = ['bedrooms', 'Sqft.', 'lot Sqft.', 'full baths','half baths', 'stories', 'year built', 'price']\n",
    "\n",
    "fig, axes = plt.subplots(2, 4, figsize=(15, 8))\n",
    "\n",
    "for feat, ax in zip(num_cols, axes.flatten()):\n",
    "    sns.boxplot(data=houston_data[feat], orient='v', ax=ax).set_title(feat)"
   ]
  },
  {
   "cell_type": "code",
   "execution_count": 108,
   "metadata": {},
   "outputs": [],
   "source": [
    "PATH = 'C:\\\\Users\\\\corey\\\\Desktop\\\\git\\\\portfolio\\\\data_portfolio\\\\realestate_ml\\\\data\\\\houston_houses_cleaned.csv'\n",
    "houston_data.to_csv(PATH)"
   ]
  }
 ],
 "metadata": {
  "kernelspec": {
   "display_name": "Python 3.9.12 ('deeplearning')",
   "language": "python",
   "name": "python3"
  },
  "language_info": {
   "codemirror_mode": {
    "name": "ipython",
    "version": 3
   },
   "file_extension": ".py",
   "mimetype": "text/x-python",
   "name": "python",
   "nbconvert_exporter": "python",
   "pygments_lexer": "ipython3",
   "version": "3.9.12"
  },
  "orig_nbformat": 4,
  "vscode": {
   "interpreter": {
    "hash": "2bb6cb09273b8afd7c4f49437f12601aa9c7fc62c6f938166925fa056364ee24"
   }
  }
 },
 "nbformat": 4,
 "nbformat_minor": 2
}
